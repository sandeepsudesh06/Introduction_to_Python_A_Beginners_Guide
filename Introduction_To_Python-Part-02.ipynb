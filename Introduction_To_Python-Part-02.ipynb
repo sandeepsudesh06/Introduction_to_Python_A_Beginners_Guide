{
 "cells": [
  {
   "cell_type": "markdown",
   "metadata": {},
   "source": [
    "## Introduction to Python: Lists, Tuples, Dictionaries, and Sets"
   ]
  },
  {
   "cell_type": "markdown",
   "metadata": {},
   "source": [
    "Welcome to \"Introduction to Python: Lists, Tuples, Dictionaries, and Sets\"! In this Jupyter notebook, we will explore four essential data structures in Python: lists, tuples, dictionaries, and sets. We'll cover how to create and manipulate these data structures. By the end of this notebook, you should have a solid understanding of how to work with these fundamental data structures in Python."
   ]
  },
  {
   "cell_type": "markdown",
   "metadata": {
    "collapsed": true,
    "id": "VZC0Jb6dgBFM"
   },
   "source": [
    "# Contents\n",
    "\n",
    "1. **[Introduction to List](#list)**\n",
    "2. **[Introduction to Tuple](#tuple)**\n",
    "3. **[Introduction to Dictionary](#Dictionary)**\n",
    "3. **[Introduction to Sets](#sets)**"
   ]
  },
  {
   "cell_type": "markdown",
   "metadata": {
    "id": "4NLXGP7CgBFO"
   },
   "source": [
    "<a id=\"list\"> </a>\n",
    "## <span style=\"color:darkolivegreen\">**1. Introduction to List**</span>\n"
   ]
  },
  {
   "cell_type": "markdown",
   "metadata": {
    "id": "QqZoGOCsgBFP"
   },
   "source": [
    "### Constructing Lists\n",
    "\n",
    "To create a list, use square brackets `[ ]` and separate items in the list with commas.\n",
    "A list can be empty or contain any number of items with different data types (integers, float, strings, etc.)"
   ]
  },
  {
   "cell_type": "code",
   "execution_count": 19,
   "metadata": {
    "id": "UraWAxswgBFQ"
   },
   "outputs": [
    {
     "name": "stdout",
     "output_type": "stream",
     "text": [
      "['Big Data Analytics', 'Data Science', 25, 'Machine Learning', 'Python', 'Java']\n"
     ]
    }
   ],
   "source": [
    "#create a list\n",
    "\n",
    "course = ['Big Data Analytics', 'Data Science', 25 , 'Machine Learning', 'Python', 'Java']\n",
    "print(course)\n"
   ]
  },
  {
   "cell_type": "markdown",
   "metadata": {
    "id": "Urz3y22hgBFW"
   },
   "source": [
    "### Acessing Elements in a List\n",
    "You can access the list items by referring to the index number"
   ]
  },
  {
   "cell_type": "markdown",
   "metadata": {
    "id": "gn7hkvCegBFX"
   },
   "source": [
    "**Indexing:**<br>\n",
    "We use the index operator `[ ]`. Note that the index starts from 0 in python and must be an integer"
   ]
  },
  {
   "cell_type": "code",
   "execution_count": 20,
   "metadata": {
    "id": "NbWA-bH0htyv"
   },
   "outputs": [
    {
     "data": {
      "text/plain": [
       "['Big Data Analytics', 'Data Science', 25]"
      ]
     },
     "execution_count": 20,
     "metadata": {},
     "output_type": "execute_result"
    }
   ],
   "source": [
    "# Inclusive and Exclusive in Python\n",
    "# course[0]\n",
    "course[0:3]"
   ]
  },
  {
   "cell_type": "code",
   "execution_count": 21,
   "metadata": {
    "id": "vX_CxZ_VgBFX"
   },
   "outputs": [
    {
     "data": {
      "text/plain": [
       "'Data Science'"
      ]
     },
     "execution_count": 21,
     "metadata": {},
     "output_type": "execute_result"
    }
   ],
   "source": [
    "#Print the second item of the list\n",
    "course[1]"
   ]
  },
  {
   "cell_type": "code",
   "execution_count": 22,
   "metadata": {},
   "outputs": [
    {
     "data": {
      "text/plain": [
       "'Java'"
      ]
     },
     "execution_count": 22,
     "metadata": {},
     "output_type": "execute_result"
    }
   ],
   "source": [
    "# to access elements from the right\n",
    "course[-1]"
   ]
  },
  {
   "cell_type": "markdown",
   "metadata": {},
   "source": [
    "    "
   ]
  },
  {
   "cell_type": "markdown",
   "metadata": {
    "id": "N3TiHDDIgBFY"
   },
   "source": [
    "**Negative Indexing**:<br>\n",
    "Negative indexing means beginning from the end, -1 refers to the last item, -2 refers to the second last item"
   ]
  },
  {
   "cell_type": "code",
   "execution_count": 23,
   "metadata": {},
   "outputs": [
    {
     "data": {
      "text/plain": [
       "['Big Data Analytics',\n",
       " 'Data Science',\n",
       " 25,\n",
       " 'Machine Learning',\n",
       " 'Python',\n",
       " 'Java']"
      ]
     },
     "execution_count": 23,
     "metadata": {},
     "output_type": "execute_result"
    }
   ],
   "source": [
    "course"
   ]
  },
  {
   "cell_type": "code",
   "execution_count": 24,
   "metadata": {
    "id": "1seE_9wugBFa"
   },
   "outputs": [
    {
     "data": {
      "text/plain": [
       "'Python'"
      ]
     },
     "execution_count": 24,
     "metadata": {},
     "output_type": "execute_result"
    }
   ],
   "source": [
    "#Print the second last item of the list\n",
    "course[-2]"
   ]
  },
  {
   "cell_type": "markdown",
   "metadata": {
    "id": "5VX0PoidgBFa"
   },
   "source": [
    "### Slicing of a List\n",
    "List uses the slicing operator `:` (colon) to extract part of the sequence"
   ]
  },
  {
   "cell_type": "code",
   "execution_count": 25,
   "metadata": {
    "id": "LFHUzio_gBFb"
   },
   "outputs": [
    {
     "data": {
      "text/plain": [
       "['Machine Learning', 'Python', 'Java']"
      ]
     },
     "execution_count": 25,
     "metadata": {},
     "output_type": "execute_result"
    }
   ],
   "source": [
    "#Return last three elements from the list \n",
    "course[-3:]\n"
   ]
  },
  {
   "cell_type": "code",
   "execution_count": 26,
   "metadata": {},
   "outputs": [
    {
     "data": {
      "text/plain": [
       "['Machine Learning', 'Python']"
      ]
     },
     "execution_count": 26,
     "metadata": {},
     "output_type": "execute_result"
    }
   ],
   "source": [
    "# for slicing in between\n",
    "course[-3:-1]"
   ]
  },
  {
   "cell_type": "markdown",
   "metadata": {
    "id": "ydItSoJYgBFe"
   },
   "source": [
    "### Change Item Value\n",
    "Refer the index number to change the value of a specific item"
   ]
  },
  {
   "cell_type": "code",
   "execution_count": 27,
   "metadata": {},
   "outputs": [
    {
     "data": {
      "text/plain": [
       "['Big Data Analytics',\n",
       " 'Data Science',\n",
       " 25,\n",
       " 'Machine Learning',\n",
       " 'Python',\n",
       " 'Java']"
      ]
     },
     "execution_count": 27,
     "metadata": {},
     "output_type": "execute_result"
    }
   ],
   "source": [
    "course"
   ]
  },
  {
   "cell_type": "code",
   "execution_count": 28,
   "metadata": {
    "id": "P6J-PRRJgBFe"
   },
   "outputs": [
    {
     "data": {
      "text/plain": [
       "['Big Data Analytics',\n",
       " 'Data Science',\n",
       " 'R',\n",
       " 'Machine Learning',\n",
       " 'Python',\n",
       " 'Java']"
      ]
     },
     "execution_count": 28,
     "metadata": {},
     "output_type": "execute_result"
    }
   ],
   "source": [
    "#change the third item\n",
    "course[2] = 'R'\n",
    "course"
   ]
  },
  {
   "cell_type": "markdown",
   "metadata": {
    "id": "LNvMI02AgBFe"
   },
   "source": [
    "### List Methods\n",
    "Python has a set of built-in methods that you can use on lists. Some examples are:<br>\n",
    "\n",
    "`append()`<br>\n",
    "`insert()`<br>\n",
    "`reverse()`<br>\n",
    "\n",
    "You can press the `tab` key to see the list of available methods "
   ]
  },
  {
   "cell_type": "markdown",
   "metadata": {},
   "source": [
    "    "
   ]
  },
  {
   "cell_type": "markdown",
   "metadata": {
    "id": "64xQQaXYgBFf"
   },
   "source": [
    "**`list.append()`**<br>\n",
    "This method will add the element at the end of a list"
   ]
  },
  {
   "cell_type": "code",
   "execution_count": 29,
   "metadata": {},
   "outputs": [
    {
     "data": {
      "text/plain": [
       "['Big Data Analytics',\n",
       " 'Data Science',\n",
       " 'R',\n",
       " 'Machine Learning',\n",
       " 'Python',\n",
       " 'Java']"
      ]
     },
     "execution_count": 29,
     "metadata": {},
     "output_type": "execute_result"
    }
   ],
   "source": [
    "course"
   ]
  },
  {
   "cell_type": "code",
   "execution_count": 30,
   "metadata": {
    "id": "ErTxcpcUgBFf"
   },
   "outputs": [
    {
     "data": {
      "text/plain": [
       "['Big Data Analytics',\n",
       " 'Data Science',\n",
       " 'R',\n",
       " 'Machine Learning',\n",
       " 'Python',\n",
       " 'Java',\n",
       " 'Python']"
      ]
     },
     "execution_count": 30,
     "metadata": {},
     "output_type": "execute_result"
    }
   ],
   "source": [
    "# add element to the list\n",
    "course.append('Python')\n",
    "course"
   ]
  },
  {
   "cell_type": "markdown",
   "metadata": {
    "id": "f4yXJihggBFg"
   },
   "source": [
    "**`list.insert(i, item)`**<br>\n",
    "This method will insert an element at the ith index in a list"
   ]
  },
  {
   "cell_type": "code",
   "execution_count": 31,
   "metadata": {
    "id": "cZTbpyNZgBFg"
   },
   "outputs": [
    {
     "data": {
      "text/plain": [
       "['Big Data Analytics',\n",
       " 'Data Science',\n",
       " 'R',\n",
       " 'Statistics',\n",
       " 'Machine Learning',\n",
       " 'Python',\n",
       " 'Java',\n",
       " 'Python']"
      ]
     },
     "execution_count": 31,
     "metadata": {},
     "output_type": "execute_result"
    }
   ],
   "source": [
    "# insert element at 2nd index in a list\n",
    "course.insert(3 ,'Statistics')\n",
    "course"
   ]
  },
  {
   "cell_type": "markdown",
   "metadata": {
    "id": "UnJqmVt3gBFi"
   },
   "source": [
    "**`list.reverse()`**<br>\n",
    "This method reverses the sorting order of the elements"
   ]
  },
  {
   "cell_type": "code",
   "execution_count": 32,
   "metadata": {
    "id": "_zGEMyaqgBFj"
   },
   "outputs": [
    {
     "data": {
      "text/plain": [
       "['Python',\n",
       " 'Java',\n",
       " 'Python',\n",
       " 'Machine Learning',\n",
       " 'Statistics',\n",
       " 'R',\n",
       " 'Data Science',\n",
       " 'Big Data Analytics']"
      ]
     },
     "execution_count": 32,
     "metadata": {},
     "output_type": "execute_result"
    }
   ],
   "source": [
    "# reverse the elements in the list\n",
    "course.reverse()\n",
    "course"
   ]
  },
  {
   "cell_type": "markdown",
   "metadata": {},
   "source": [
    "    "
   ]
  },
  {
   "cell_type": "markdown",
   "metadata": {
    "id": "WvUtNDg8gBFl"
   },
   "source": [
    "<a id=\"tuple\"> </a>\n",
    "## <span style=\"color:darkolivegreen\">**2. Introduction to Tuple**</span>"
   ]
  },
  {
   "cell_type": "markdown",
   "metadata": {
    "id": "rcH1Hn_AgBFm"
   },
   "source": [
    "### Creating Tuple\n",
    "We can have tuple of same type of data items as well as mixed type of data items "
   ]
  },
  {
   "cell_type": "code",
   "execution_count": 33,
   "metadata": {
    "id": "z-NuTyQYgBFm"
   },
   "outputs": [
    {
     "data": {
      "text/plain": [
       "(45, 5.597, 'Python')"
      ]
     },
     "execution_count": 33,
     "metadata": {},
     "output_type": "execute_result"
    }
   ],
   "source": [
    "# Create a tuple of int, float, string\n",
    "my_tuple = (45, 5.597, 'Python')\n",
    "my_tuple"
   ]
  },
  {
   "cell_type": "markdown",
   "metadata": {
    "id": "BrVHJy0igBFn"
   },
   "source": [
    "### Access Tuple Elements\n",
    "We use indexes to access the elements of a tuple"
   ]
  },
  {
   "cell_type": "code",
   "execution_count": 34,
   "metadata": {
    "id": "4FlBcwcsgBFn"
   },
   "outputs": [
    {
     "data": {
      "text/plain": [
       "5.597"
      ]
     },
     "execution_count": 34,
     "metadata": {},
     "output_type": "execute_result"
    }
   ],
   "source": [
    "# access the second element from the tuple\n",
    "my_tuple[1]"
   ]
  },
  {
   "cell_type": "markdown",
   "metadata": {
    "id": "BGiFfk93gBFn"
   },
   "source": [
    "### Change Tuple Values\n",
    "We cannot change the elements of a tuple because elements of <span style=\"color:crimson\">tuples are immutable</span>."
   ]
  },
  {
   "cell_type": "code",
   "execution_count": 35,
   "metadata": {},
   "outputs": [
    {
     "data": {
      "text/plain": [
       "(45, 5.597, 'Python')"
      ]
     },
     "execution_count": 35,
     "metadata": {},
     "output_type": "execute_result"
    }
   ],
   "source": [
    "my_tuple"
   ]
  },
  {
   "cell_type": "code",
   "execution_count": 36,
   "metadata": {
    "id": "oXSuXF7CgBFo"
   },
   "outputs": [
    {
     "ename": "TypeError",
     "evalue": "'tuple' object does not support item assignment",
     "output_type": "error",
     "traceback": [
      "\u001b[1;31m---------------------------------------------------------------------------\u001b[0m",
      "\u001b[1;31mTypeError\u001b[0m                                 Traceback (most recent call last)",
      "\u001b[1;32m~\\AppData\\Local\\Temp\\ipykernel_12660\\3555452426.py\u001b[0m in \u001b[0;36m<module>\u001b[1;34m\u001b[0m\n\u001b[0;32m      1\u001b[0m \u001b[1;31m# change the second element from the tuple\u001b[0m\u001b[1;33m\u001b[0m\u001b[1;33m\u001b[0m\u001b[0m\n\u001b[1;32m----> 2\u001b[1;33m \u001b[0mmy_tuple\u001b[0m\u001b[1;33m[\u001b[0m\u001b[1;36m1\u001b[0m\u001b[1;33m]\u001b[0m\u001b[1;33m=\u001b[0m \u001b[1;36m6\u001b[0m\u001b[1;33m\u001b[0m\u001b[1;33m\u001b[0m\u001b[0m\n\u001b[0m\u001b[0;32m      3\u001b[0m \u001b[0mmy_tuple\u001b[0m\u001b[1;33m\u001b[0m\u001b[1;33m\u001b[0m\u001b[0m\n",
      "\u001b[1;31mTypeError\u001b[0m: 'tuple' object does not support item assignment"
     ]
    }
   ],
   "source": [
    "# change the second element from the tuple\n",
    "my_tuple[1]= 6\n",
    "my_tuple"
   ]
  },
  {
   "cell_type": "markdown",
   "metadata": {
    "id": "oadoHDJzgBFo"
   },
   "source": [
    "### Delete Operation on Tuple\n",
    "As discussed tuple elements are immutable which also means that we <span style=\"color:crimson\">cannot delete the elements of a tuple</span>. However deleting entire tuple is possible"
   ]
  },
  {
   "cell_type": "code",
   "execution_count": 37,
   "metadata": {
    "id": "9m-iGGaWgBFo",
    "scrolled": true
   },
   "outputs": [
    {
     "ename": "TypeError",
     "evalue": "'tuple' object doesn't support item deletion",
     "output_type": "error",
     "traceback": [
      "\u001b[1;31m---------------------------------------------------------------------------\u001b[0m",
      "\u001b[1;31mTypeError\u001b[0m                                 Traceback (most recent call last)",
      "\u001b[1;32m~\\AppData\\Local\\Temp\\ipykernel_12660\\4174013744.py\u001b[0m in \u001b[0;36m<module>\u001b[1;34m\u001b[0m\n\u001b[0;32m      1\u001b[0m \u001b[1;31m# delete element from the tuple\u001b[0m\u001b[1;33m\u001b[0m\u001b[1;33m\u001b[0m\u001b[0m\n\u001b[1;32m----> 2\u001b[1;33m \u001b[1;32mdel\u001b[0m \u001b[0mmy_tuple\u001b[0m\u001b[1;33m[\u001b[0m\u001b[1;36m1\u001b[0m\u001b[1;33m]\u001b[0m\u001b[1;33m\u001b[0m\u001b[1;33m\u001b[0m\u001b[0m\n\u001b[0m",
      "\u001b[1;31mTypeError\u001b[0m: 'tuple' object doesn't support item deletion"
     ]
    }
   ],
   "source": [
    "# delete element from the tuple\n",
    "del my_tuple[1]"
   ]
  },
  {
   "cell_type": "code",
   "execution_count": 38,
   "metadata": {},
   "outputs": [],
   "source": [
    "del my_tuple"
   ]
  },
  {
   "cell_type": "code",
   "execution_count": 39,
   "metadata": {},
   "outputs": [
    {
     "ename": "NameError",
     "evalue": "name 'my_tuple' is not defined",
     "output_type": "error",
     "traceback": [
      "\u001b[1;31m---------------------------------------------------------------------------\u001b[0m",
      "\u001b[1;31mNameError\u001b[0m                                 Traceback (most recent call last)",
      "\u001b[1;32m~\\AppData\\Local\\Temp\\ipykernel_12660\\3943104937.py\u001b[0m in \u001b[0;36m<module>\u001b[1;34m\u001b[0m\n\u001b[1;32m----> 1\u001b[1;33m \u001b[0mmy_tuple\u001b[0m\u001b[1;33m\u001b[0m\u001b[1;33m\u001b[0m\u001b[0m\n\u001b[0m",
      "\u001b[1;31mNameError\u001b[0m: name 'my_tuple' is not defined"
     ]
    }
   ],
   "source": [
    "my_tuple"
   ]
  },
  {
   "cell_type": "markdown",
   "metadata": {
    "id": "_Zw2-j80gBFp"
   },
   "source": [
    "### Tuple Methods"
   ]
  },
  {
   "cell_type": "markdown",
   "metadata": {
    "id": "B48uZoq8gBFp"
   },
   "source": [
    "Python has built-in methods that you can use on tuples:<br>\n",
    "\n",
    "`count()`<br>\n",
    "`index()`<br>\n",
    "\n",
    "You can press the `tab` key to see the list of available methods "
   ]
  },
  {
   "cell_type": "markdown",
   "metadata": {
    "id": "1IiNxLlngBFp"
   },
   "source": [
    "**`tuple.count()`**<br>\n",
    "Returns the **number of times** a specified value occurs in a tuple"
   ]
  },
  {
   "cell_type": "code",
   "execution_count": 40,
   "metadata": {},
   "outputs": [],
   "source": [
    "my_tuple = ('Python is a programming language')"
   ]
  },
  {
   "cell_type": "code",
   "execution_count": 41,
   "metadata": {
    "id": "6FBZXgEIgBFp"
   },
   "outputs": [
    {
     "data": {
      "text/plain": [
       "1"
      ]
     },
     "execution_count": 41,
     "metadata": {},
     "output_type": "execute_result"
    }
   ],
   "source": [
    "my_tuple.count('P')"
   ]
  },
  {
   "cell_type": "markdown",
   "metadata": {
    "id": "kW-d6_X-gBFp"
   },
   "source": [
    "**`tuple.index()`**<br>\n",
    "Searches the tuple for a specified value and returns the position of **where** it was found"
   ]
  },
  {
   "cell_type": "code",
   "execution_count": 42,
   "metadata": {
    "id": "rY5qWJM_gBFq"
   },
   "outputs": [
    {
     "data": {
      "text/plain": [
       "4"
      ]
     },
     "execution_count": 42,
     "metadata": {},
     "output_type": "execute_result"
    }
   ],
   "source": [
    "my_tuple.index('o')"
   ]
  },
  {
   "cell_type": "markdown",
   "metadata": {},
   "source": [
    "    *Note - Find the index for all the o'"
   ]
  },
  {
   "cell_type": "markdown",
   "metadata": {},
   "source": [
    "<a id=\"Dictionary\"> </a>\n",
    "## <span style=\"color:darkolivegreen\">**3. Introduction to Dictionary**</span>"
   ]
  },
  {
   "cell_type": "markdown",
   "metadata": {},
   "source": [
    "**General Syntax of Dictionary:**<br>\n",
    "dictionary_name = {&nbsp;key_1: value_1,<br>\n",
    "&nbsp;&nbsp;&nbsp;&nbsp;&nbsp;&nbsp;&nbsp;&nbsp;&nbsp;&nbsp;&nbsp;&nbsp;&nbsp;&nbsp;&nbsp;&nbsp;&nbsp;&nbsp;&nbsp;&nbsp;&nbsp;&nbsp;&nbsp;&nbsp;&nbsp;&nbsp;&nbsp;&nbsp;&nbsp;&nbsp;&nbsp;&nbsp;                   key_2: value_2,<br>\n",
    "&nbsp;&nbsp;&nbsp;&nbsp;&nbsp;&nbsp;&nbsp;&nbsp;&nbsp;&nbsp;&nbsp;&nbsp;&nbsp;&nbsp;&nbsp;&nbsp;&nbsp;&nbsp;&nbsp;&nbsp;&nbsp;&nbsp;&nbsp;&nbsp;&nbsp;&nbsp;&nbsp;&nbsp;&nbsp;&nbsp;&nbsp;&nbsp;                    key_3: value_3,<br>\n",
    "&nbsp;&nbsp;&nbsp;&nbsp;&nbsp;&nbsp;&nbsp;&nbsp;&nbsp;&nbsp;&nbsp;&nbsp;&nbsp;&nbsp;&nbsp;&nbsp;&nbsp;&nbsp;&nbsp;&nbsp;&nbsp;&nbsp;&nbsp;&nbsp;&nbsp;&nbsp;&nbsp;&nbsp;&nbsp;&nbsp;&nbsp;&nbsp;                    }"
   ]
  },
  {
   "cell_type": "markdown",
   "metadata": {},
   "source": [
    "### Create a Dictionary\n",
    "Separate keys from values with a colon `:` and a pair from another by a comma `,` Put it all in curly `{}` braces"
   ]
  },
  {
   "cell_type": "code",
   "execution_count": 43,
   "metadata": {},
   "outputs": [
    {
     "data": {
      "text/plain": [
       "{'Elon': 84654846, 'Bezos': 73468464, 'Mark': 5646875}"
      ]
     },
     "execution_count": 43,
     "metadata": {},
     "output_type": "execute_result"
    }
   ],
   "source": [
    "# Create a dictionary\n",
    "account = {'Elon': 84654846, \n",
    "          'Bezos': 73468464,\n",
    "          'Mark': 5646875}\n",
    "\n",
    "account"
   ]
  },
  {
   "cell_type": "markdown",
   "metadata": {},
   "source": [
    "    "
   ]
  },
  {
   "cell_type": "markdown",
   "metadata": {},
   "source": [
    "### Accessing Items\n",
    "You can access the items of a dictionary by referring to its `key name`, inside square brackets"
   ]
  },
  {
   "cell_type": "code",
   "execution_count": 44,
   "metadata": {},
   "outputs": [
    {
     "data": {
      "text/plain": [
       "5646875"
      ]
     },
     "execution_count": 44,
     "metadata": {},
     "output_type": "execute_result"
    }
   ],
   "source": [
    "# Get the value of a key\n",
    "account['Mark']"
   ]
  },
  {
   "cell_type": "markdown",
   "metadata": {},
   "source": [
    "    "
   ]
  },
  {
   "cell_type": "markdown",
   "metadata": {},
   "source": [
    "### Change Values\n",
    "Dictionary is <span style=\"color:crimson\">mutable</span>. You can change the value of a specific element by referring to its `key name`"
   ]
  },
  {
   "cell_type": "code",
   "execution_count": 45,
   "metadata": {},
   "outputs": [
    {
     "data": {
      "text/plain": [
       "{'Elon': 84654846, 'Bezos': 73468464, 'Mark': 0}"
      ]
     },
     "execution_count": 45,
     "metadata": {},
     "output_type": "execute_result"
    }
   ],
   "source": [
    "# Change a value\n",
    "account['Mark'] = 0\n",
    "account"
   ]
  },
  {
   "cell_type": "markdown",
   "metadata": {},
   "source": [
    "### **Adding Items**\n",
    "Adding an item to the dictionary is done by using a new index key and assigning a value to it."
   ]
  },
  {
   "cell_type": "code",
   "execution_count": 46,
   "metadata": {},
   "outputs": [
    {
     "data": {
      "text/plain": [
       "{'Elon': 84654846, 'Bezos': 73468464, 'Mark': 0, 'Bill': 5468415}"
      ]
     },
     "execution_count": 46,
     "metadata": {},
     "output_type": "execute_result"
    }
   ],
   "source": [
    "# Add new item to the dictionary\n",
    "account['Bill'] = 5468415\n",
    "account"
   ]
  },
  {
   "cell_type": "markdown",
   "metadata": {},
   "source": [
    "    "
   ]
  },
  {
   "cell_type": "markdown",
   "metadata": {},
   "source": [
    "### Dictionary Methods"
   ]
  },
  {
   "cell_type": "markdown",
   "metadata": {},
   "source": [
    "There are several methods that you can use on a dictionary:<br>\n",
    "\n",
    "`pop()`<br>\n",
    "`clear()`\n",
    "\n",
    "You can press the `tab` key to see the list of available methods "
   ]
  },
  {
   "cell_type": "markdown",
   "metadata": {},
   "source": [
    "**`dict.pop()`**<br>\n",
    "This method removes the item with the specified key name"
   ]
  },
  {
   "cell_type": "code",
   "execution_count": 47,
   "metadata": {},
   "outputs": [
    {
     "data": {
      "text/plain": [
       "{'Elon': 84654846, 'Bezos': 73468464, 'Bill': 5468415}"
      ]
     },
     "execution_count": 47,
     "metadata": {},
     "output_type": "execute_result"
    }
   ],
   "source": [
    "#remove a key from the dictionary\n",
    "account.pop('Mark')\n",
    "account"
   ]
  },
  {
   "cell_type": "markdown",
   "metadata": {},
   "source": [
    "    "
   ]
  },
  {
   "cell_type": "markdown",
   "metadata": {},
   "source": [
    "**`dict.clear()`**<br>\n",
    "This method empties the entire dictionary"
   ]
  },
  {
   "cell_type": "code",
   "execution_count": 48,
   "metadata": {},
   "outputs": [
    {
     "data": {
      "text/plain": [
       "{}"
      ]
     },
     "execution_count": 48,
     "metadata": {},
     "output_type": "execute_result"
    }
   ],
   "source": [
    "#clear the dictionary\n",
    "account.clear()\n",
    "account"
   ]
  },
  {
   "cell_type": "markdown",
   "metadata": {},
   "source": [
    "    "
   ]
  },
  {
   "cell_type": "markdown",
   "metadata": {},
   "source": [
    "<a id=\"sets\"> </a>\n",
    "## <span style=\"color:darkolivegreen\">**4. Introduction to Sets**</span>"
   ]
  },
  {
   "cell_type": "markdown",
   "metadata": {},
   "source": [
    "### Creating a Set\n",
    "In Python sets are written with curly `{}`brackets "
   ]
  },
  {
   "cell_type": "code",
   "execution_count": 49,
   "metadata": {},
   "outputs": [
    {
     "data": {
      "text/plain": [
       "{1, 2, 3, 4, 5, 6}"
      ]
     },
     "execution_count": 49,
     "metadata": {},
     "output_type": "execute_result"
    }
   ],
   "source": [
    "# create a set\n",
    "s = {1,2,3, 3, 3, 3, 4, 5, 5, 6}\n",
    "s\n"
   ]
  },
  {
   "cell_type": "markdown",
   "metadata": {},
   "source": [
    "    "
   ]
  },
  {
   "cell_type": "markdown",
   "metadata": {},
   "source": [
    "\n",
    "Python has the following methods that you can use on sets:<br>\n",
    "\n",
    "`add()`<br>\n",
    "`update()`<br>\n",
    "`len()`<br>\n",
    "`pop()`<br>"
   ]
  },
  {
   "cell_type": "markdown",
   "metadata": {},
   "source": [
    "**`s.add()`**<br>\n",
    "This method to add a new element to the set"
   ]
  },
  {
   "cell_type": "code",
   "execution_count": 50,
   "metadata": {},
   "outputs": [
    {
     "data": {
      "text/plain": [
       "{1, 2, 3, 4, 5, 6, 7}"
      ]
     },
     "execution_count": 50,
     "metadata": {},
     "output_type": "execute_result"
    }
   ],
   "source": [
    "s.add(7)\n",
    "s"
   ]
  },
  {
   "cell_type": "markdown",
   "metadata": {},
   "source": [
    "**`s.update()`**<br>\n",
    "This method to  add multiple elements to the set"
   ]
  },
  {
   "cell_type": "code",
   "execution_count": 51,
   "metadata": {},
   "outputs": [
    {
     "data": {
      "text/plain": [
       "{1, 2, 3, 4, 5, 6, 7, 8, 9, 10}"
      ]
     },
     "execution_count": 51,
     "metadata": {},
     "output_type": "execute_result"
    }
   ],
   "source": [
    "s.update([8,9,10])\n",
    "s"
   ]
  },
  {
   "cell_type": "markdown",
   "metadata": {},
   "source": [
    "**`s.len()`**<br>\n",
    "This method get the number of elements in the set"
   ]
  },
  {
   "cell_type": "code",
   "execution_count": 52,
   "metadata": {},
   "outputs": [
    {
     "data": {
      "text/plain": [
       "10"
      ]
     },
     "execution_count": 52,
     "metadata": {},
     "output_type": "execute_result"
    }
   ],
   "source": [
    "num_set = len(s)\n",
    "num_set"
   ]
  },
  {
   "cell_type": "markdown",
   "metadata": {},
   "source": [
    "**`s.pop()`**<br>\n",
    "This method to remove and return a random element from the set"
   ]
  },
  {
   "cell_type": "code",
   "execution_count": 53,
   "metadata": {},
   "outputs": [
    {
     "data": {
      "text/plain": [
       "1"
      ]
     },
     "execution_count": 53,
     "metadata": {},
     "output_type": "execute_result"
    }
   ],
   "source": [
    "pop_set = s.pop()\n",
    "pop_set\n"
   ]
  },
  {
   "cell_type": "code",
   "execution_count": 54,
   "metadata": {},
   "outputs": [
    {
     "data": {
      "text/plain": [
       "{2, 3, 4, 5, 6, 7, 8, 9, 10}"
      ]
     },
     "execution_count": 54,
     "metadata": {},
     "output_type": "execute_result"
    }
   ],
   "source": [
    "s"
   ]
  },
  {
   "cell_type": "markdown",
   "metadata": {},
   "source": [
    "Congratulations on completing \"Introduction to Python: Lists, Tuples, Dictionaries, and Sets\"! You now have a solid understanding of four essential data structures in Python and how to work with them. Lists, tuples, dictionaries, and sets are used extensively in Python programming, and you can now use them effectively to build more complex programs. Remember to keep practicing and experimenting with different code examples, and don't be afraid to ask for help or consult online resources when you need it. Happy coding!\n",
    "\n",
    "Sandeep Sudesh <br>\n",
    "sandeepsudesh06@gmail.com  <br>\n",
    "www.linkedin.com/in/sandeep-sudesh-kumar"
   ]
  }
 ],
 "metadata": {
  "colab": {
   "name": "Python Intro 2.ipynb",
   "provenance": []
  },
  "kernelspec": {
   "display_name": "Python 3 (ipykernel)",
   "language": "python",
   "name": "python3"
  },
  "language_info": {
   "codemirror_mode": {
    "name": "ipython",
    "version": 3
   },
   "file_extension": ".py",
   "mimetype": "text/x-python",
   "name": "python",
   "nbconvert_exporter": "python",
   "pygments_lexer": "ipython3",
   "version": "3.9.13"
  }
 },
 "nbformat": 4,
 "nbformat_minor": 1
}
