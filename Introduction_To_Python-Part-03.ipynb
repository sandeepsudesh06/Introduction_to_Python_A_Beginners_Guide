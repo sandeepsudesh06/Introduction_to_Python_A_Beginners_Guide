{
 "cells": [
  {
   "cell_type": "markdown",
   "id": "9b853b06",
   "metadata": {},
   "source": [
    "## Introduction To Python : Conditional Statement and Loops"
   ]
  },
  {
   "cell_type": "markdown",
   "id": "161fe74b",
   "metadata": {},
   "source": [
    "Welcome to \"Introduction to Python: Conditional Statements and Loops\"! In this Jupyter notebook, we will explore the basics of conditional statements and loops in Python. Conditional statements allow you to control the flow of your program based on certain conditions, while loops let you repeat a block of code until a certain condition is met. By the end of this notebook, you should have a solid understanding of Conditional Statements and Loops."
   ]
  },
  {
   "cell_type": "markdown",
   "id": "1adc1903",
   "metadata": {},
   "source": [
    "## <span style=\"color:darkolivegreen\">Conditional Statement and Loops</span>\n",
    "\n",
    "1. **[if statement](#if_statement)**\n",
    "2. **[if else statement](#if_else)**\n",
    "3. **[if elif else](#if_elif_else)**\n",
    "4. **[for loop](#forloop)**\n",
    "5. **[while loop](#whileloop)**\n",
    "6. **[break statement](#breakstatement)**\n",
    "7. **[continue statement](#continuestatement)**\n",
    "8. **[nested_loop](#nested_loop)**"
   ]
  },
  {
   "cell_type": "markdown",
   "id": "27db2a2c",
   "metadata": {},
   "source": [
    "<a id=\"if_statement\"> </a>\n",
    "## 1. if statement\n"
   ]
  },
  {
   "cell_type": "markdown",
   "id": "5df41f7c",
   "metadata": {},
   "source": [
    "**syntax:**<br><br>\n",
    "if EXPRESSION:<br>\n",
    "&nbsp;&nbsp;    STATEMENTS\n",
    "\n",
    "Use colon `:` and `indentation` correctly"
   ]
  },
  {
   "cell_type": "markdown",
   "id": "60424f64",
   "metadata": {},
   "source": [
    "####  Now, we will see some examples on if statements"
   ]
  },
  {
   "cell_type": "code",
   "execution_count": 1,
   "id": "d4a062c6",
   "metadata": {},
   "outputs": [
    {
     "name": "stdout",
     "output_type": "stream",
     "text": [
      "True\n"
     ]
    }
   ],
   "source": [
    "# create a list and check for the element in the list\n",
    "\n",
    "my_list = ['Data Science','Python','Java']\n",
    "\n",
    "if 'Python' in my_list:\n",
    "    print('True')"
   ]
  },
  {
   "cell_type": "code",
   "execution_count": 2,
   "id": "812fdb9a",
   "metadata": {},
   "outputs": [
    {
     "name": "stdout",
     "output_type": "stream",
     "text": [
      "15\n"
     ]
    }
   ],
   "source": [
    "a = 10\n",
    "b = 5\n",
    "\n",
    "if a+b > 10:\n",
    "    print(a+b)"
   ]
  },
  {
   "cell_type": "markdown",
   "id": "f63aa39f",
   "metadata": {},
   "source": [
    "<a id=\"if_else\"> </a>\n",
    "## 2. if else statement\n"
   ]
  },
  {
   "cell_type": "markdown",
   "id": "0dbb11df",
   "metadata": {},
   "source": [
    "**Syntax of if...else**<br><br>\n",
    "if EXPRESSION:<br>\n",
    "&nbsp;&nbsp;    STATEMENT_1<br>\n",
    "else:<br>\n",
    "&nbsp;&nbsp;    STATEMENT_2\n",
    "\n",
    "\n",
    "The `else` keyword catches anything which isn't caught by the preceeding conditions."
   ]
  },
  {
   "cell_type": "code",
   "execution_count": 3,
   "id": "f5f77348",
   "metadata": {},
   "outputs": [
    {
     "name": "stdout",
     "output_type": "stream",
     "text": [
      "Number is greater than 50\n"
     ]
    }
   ],
   "source": [
    "# 2 conditions - Check if a number is greater than 50 or less than 50\n",
    "# or write a username password program\n",
    "a = 80\n",
    "\n",
    "if a < 50:\n",
    "    print('Number is less than 50')\n",
    "else:\n",
    "    print('Number is greater than 50')"
   ]
  },
  {
   "cell_type": "markdown",
   "id": "7190922f",
   "metadata": {},
   "source": [
    "<a id=\"if_elif_else\"> </a>\n",
    "## 3. if elif else\n"
   ]
  },
  {
   "cell_type": "markdown",
   "id": "e06c2681",
   "metadata": {},
   "source": [
    "**Syntax of if elif else:**<br><br>\n",
    "if expression 1:<br>\n",
    "&nbsp;&nbsp;    STATEMENTS_A<br>\n",
    "elif expression 2:<br>\n",
    "&nbsp;&nbsp;   STATEMENTS_B<br>\n",
    "else:<br>\n",
    "&nbsp;&nbsp;    STATEMENTS_C"
   ]
  },
  {
   "cell_type": "code",
   "execution_count": 4,
   "id": "29581a70",
   "metadata": {},
   "outputs": [
    {
     "name": "stdout",
     "output_type": "stream",
     "text": [
      "num equal to 0\n"
     ]
    }
   ],
   "source": [
    "# 3 or more conditions - Check whether the given number equals 0, greater than 50 or less than 50. \n",
    "num = 0\n",
    "\n",
    "if (num == 0):\n",
    "    print('num equal to 0')\n",
    "elif (num > 50):\n",
    "    print('num greater than 50')\n",
    "else:\n",
    "    print('num is less than 50')"
   ]
  },
  {
   "cell_type": "markdown",
   "id": "d2aa0829",
   "metadata": {},
   "source": [
    "<a id=\"forloop\"> </a>\n",
    "## 4. for loop\n"
   ]
  },
  {
   "cell_type": "markdown",
   "id": "fd325d7c",
   "metadata": {},
   "source": [
    "**Syntax of for loop:**<br><br>\n",
    "for val in sequence:<br>\n",
    "&nbsp;&nbsp;\tBody of for <br><br>\n",
    "\n",
    "\n",
    "\n",
    "A `for` loop is used for iterating over a sequence (that is either a list, a tuple, a dictionary, a set)."
   ]
  },
  {
   "cell_type": "code",
   "execution_count": 5,
   "id": "ddcd3029",
   "metadata": {
    "scrolled": true
   },
   "outputs": [
    {
     "name": "stdout",
     "output_type": "stream",
     "text": [
      "1\n",
      "4\n",
      "9\n",
      "16\n",
      "25\n",
      "36\n",
      "49\n",
      "64\n"
     ]
    }
   ],
   "source": [
    "# create a list of numbers, using for loop, square each number\n",
    "\n",
    "numbers = [1,2,3,4,5,6,7,8]\n",
    "\n",
    "# iterate over each element of the list\n",
    "\n",
    "for val in numbers:\n",
    "    print(val**2)"
   ]
  },
  {
   "cell_type": "markdown",
   "id": "e6a68798",
   "metadata": {},
   "source": [
    "<a id=\"whileloop\"> </a>\n",
    "## 5. while loop"
   ]
  },
  {
   "cell_type": "markdown",
   "id": "453893fb",
   "metadata": {},
   "source": [
    "**Syntax of for loop:**<br><br>\n",
    "while (expression):<br>\n",
    "&nbsp;&nbsp;     statement_1<br>\n",
    "&nbsp;&nbsp;     statement_2<br>\n",
    "    .... \n",
    "<br><br>\n",
    "With the `while` loop we can execute a set of statements as long as a condition is true."
   ]
  },
  {
   "cell_type": "code",
   "execution_count": 8,
   "id": "b8207480",
   "metadata": {},
   "outputs": [
    {
     "name": "stdout",
     "output_type": "stream",
     "text": [
      "12345"
     ]
    }
   ],
   "source": [
    "# print the first 5 digits\n",
    "\n",
    "i = 1\n",
    "while i<6:\n",
    "    numbers.append(i)\n",
    "    print(i,end=\"\")\n",
    "    i = i+1"
   ]
  },
  {
   "cell_type": "markdown",
   "id": "239b5258",
   "metadata": {},
   "source": [
    "<a id=\"breakstatement\"> </a>\n",
    "## 6. break statement\n",
    "\n",
    "\n",
    "<br>The `break` keyword is used to break out of a loop completely."
   ]
  },
  {
   "cell_type": "code",
   "execution_count": 9,
   "id": "13deefce",
   "metadata": {},
   "outputs": [
    {
     "name": "stdout",
     "output_type": "stream",
     "text": [
      "1\n",
      "4\n",
      "9\n"
     ]
    }
   ],
   "source": [
    "# create a list of numbers, and if number is 4; break out\n",
    "\n",
    "numbers = [1,2,3,4,5,6,7,8]\n",
    "\n",
    "# iterate over each element of the list\n",
    "\n",
    "for val in numbers:\n",
    "    if val == 4:\n",
    "        break\n",
    "    print(val**2)"
   ]
  },
  {
   "cell_type": "markdown",
   "id": "5f381657",
   "metadata": {},
   "source": [
    "### <a id=\"continuestatement\"> </a>\n",
    "## 7. continue statement\n",
    "\n",
    "\n",
    "The `continue` keyword is used to end the current iteration in a loop, and continue to the next iteration."
   ]
  },
  {
   "cell_type": "code",
   "execution_count": 10,
   "id": "1296a6e9",
   "metadata": {},
   "outputs": [
    {
     "name": "stdout",
     "output_type": "stream",
     "text": [
      "1\n",
      "4\n",
      "9\n",
      "25\n",
      "36\n",
      "49\n",
      "64\n"
     ]
    }
   ],
   "source": [
    "# create a list of numbers, and if numebr is 4; continue to next iteration\n",
    "numbers = [1,2,3,4,5,6,7,8]\n",
    "\n",
    "# iterate over each element of the list\n",
    "\n",
    "for val in numbers:\n",
    "    if val == 4:\n",
    "        continue\n",
    "    print(val**2)"
   ]
  },
  {
   "cell_type": "markdown",
   "id": "c7fcd439",
   "metadata": {},
   "source": [
    "Break and continue are hard conditions used in side a loop to handle exceptions."
   ]
  },
  {
   "cell_type": "markdown",
   "id": "4ec54835",
   "metadata": {},
   "source": [
    "### <a id=\"nested_loop\"> </a>\n",
    "## 8. nested loop\n",
    "\n",
    "The outer loop executes once, and for each iteration of the outer loop, the inner loop executes completely. The inner loop will execute all its iterations for each iteration of the outer loop."
   ]
  },
  {
   "cell_type": "code",
   "execution_count": 11,
   "id": "f0566d73",
   "metadata": {},
   "outputs": [
    {
     "name": "stdout",
     "output_type": "stream",
     "text": [
      "1 \n",
      "1 2 \n",
      "1 2 3 \n",
      "1 2 3 4 \n",
      "1 2 3 4 5 \n"
     ]
    }
   ],
   "source": [
    "# Printing a pattern using nested loops\n",
    "for i in range(1, 6):\n",
    "    for j in range(1, i+1):\n",
    "        print(j, end=' ')\n",
    "    print()\n",
    "\n",
    "    "
   ]
  },
  {
   "cell_type": "markdown",
   "id": "c723e4f4",
   "metadata": {},
   "source": [
    "Congratulations on completing \"Introduction to Python: Conditional Statements and Loops\"! You now have a solid understanding of how to use if-else statements, while loops, and for loops in Python. These are powerful tools for controlling the flow of your program and performing repetitive tasks, and they are used extensively in Python programming. Remember to keep practicing and experimenting with different code examples, and don't be afraid to ask for help or consult online resources when you need it. Happy coding!\n",
    "\n",
    "Sandeep Sudesh <br>\n",
    "sandeepsudesh06@gmail.com  <br>\n",
    "www.linkedin.com/in/sandeep-sudesh-kumar"
   ]
  }
 ],
 "metadata": {
  "kernelspec": {
   "display_name": "Python 3 (ipykernel)",
   "language": "python",
   "name": "python3"
  },
  "language_info": {
   "codemirror_mode": {
    "name": "ipython",
    "version": 3
   },
   "file_extension": ".py",
   "mimetype": "text/x-python",
   "name": "python",
   "nbconvert_exporter": "python",
   "pygments_lexer": "ipython3",
   "version": "3.9.13"
  }
 },
 "nbformat": 4,
 "nbformat_minor": 5
}
